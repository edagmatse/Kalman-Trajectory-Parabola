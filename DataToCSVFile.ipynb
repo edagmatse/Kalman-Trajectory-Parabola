{
 "cells": [
  {
   "cell_type": "code",
   "execution_count": 81,
   "metadata": {},
   "outputs": [],
   "source": [
    "import cv2 as cv\n",
    "import numpy as np\n",
    "import csv\n",
    "from scipy.ndimage.filters import gaussian_filter"
   ]
  },
  {
   "cell_type": "code",
   "execution_count": 82,
   "metadata": {},
   "outputs": [],
   "source": [
    "#folderPath = 'C:/Users/jb83292/source/repos/edagmatse/Messepraesenter/data/Videos_Tabletennisball/'\n",
    "folderPath =  'C:/Users/jb83292/source/repos/JoBo33/Kalman-Trajectory-Parabola/data/'\n",
    "videoName = '60fps_not_flat'\n",
    "#videoPath = folderPath + videoName + '.mp4'\n",
    "videoPath = folderPath + videoName + '.MOV'\n",
    "SaveTestdataPath = 'C:/Users/jb83292/source/repos/JoBo33/Kalman-Trajectory-Parabola/data/Test_CSV_Files/'\n",
    "\n"
   ]
  },
  {
   "cell_type": "code",
   "execution_count": 83,
   "metadata": {},
   "outputs": [],
   "source": [
    "# mirror y coordinates at y / 2\n",
    "def TransformYCoordinate(yo, frameSize):\n",
    "    ymax = frameSize[1]\n",
    "    ym = ymax / 2\n",
    "    dy = ym - yo\n",
    "    return dy + ym"
   ]
  },
  {
   "cell_type": "code",
   "execution_count": 84,
   "metadata": {},
   "outputs": [
    {
     "name": "stderr",
     "output_type": "stream",
     "text": [
      "C:\\Users\\jb83292\\AppData\\Local\\Temp/ipykernel_28624/1047243255.py:92: RuntimeWarning: invalid value encountered in true_divide\n",
      "  aa=np.clip((1*l/maxl*255),0,255).astype(np.uint8)\n"
     ]
    }
   ],
   "source": [
    "REDU = 8\n",
    "\n",
    "def rgbh(xs,mask):\n",
    "\tdef normhist(x): return x / np.sum(x)\n",
    " \n",
    "\n",
    "\tdef h(rgb):\n",
    "\t\treturn cv.calcHist([rgb]\n",
    "\t\t\t\t\t, [0, 1, 2]\n",
    "\t\t\t\t\t, imCropMask\n",
    "\t\t\t\t\t, [256//REDU, 256//REDU, 256//REDU]\n",
    "\t\t\t\t\t, [0, 256] + [0, 256] + [0, 256]\n",
    "\t\t\t\t\t)\n",
    "\t\t\n",
    "\treturn normhist(sum(map(h, xs)))\n",
    "  \n",
    "def smooth(s,x):\n",
    "    return gaussian_filter(x,s,mode='constant')\n",
    "\n",
    "bgsub = cv.createBackgroundSubtractorMOG2(500, 60, True) #Der Wert der Schwelle kann variieren(60)\n",
    "cap = cv.VideoCapture(videoPath)\n",
    "\n",
    "\n",
    "key = 0\n",
    "\n",
    "kernel = np.ones((3,3),np.uint8)\n",
    "crop = False\n",
    "camshift = False\n",
    "\n",
    "termination = (cv.TERM_CRITERIA_EPS | cv.TERM_CRITERIA_COUNT, 10, 1)\n",
    "\n",
    "font = cv.FONT_HERSHEY_SIMPLEX\n",
    "\n",
    "pause= False\n",
    "\n",
    "P = np.diag([1000,1000,1000,1000])**2\n",
    "\n",
    "\n",
    "frameSize = 1100, 650\n",
    "\n",
    "listCenterX=[]\n",
    "listCenterY=[]\n",
    "listCenterTransformedY = []\n",
    "\n",
    "\n",
    "while(True):\n",
    "\n",
    "\tkey = cv.waitKey(1) & 0xFF\n",
    "\tif key== ord(\"c\"): crop = True\n",
    "\tif key== ord(\"p\"): P = np.diag([100,100,100,100])**2\n",
    "\tif key==27: break\n",
    "\tif key==ord(\" \"): pause =not pause\n",
    "\tif(pause): continue\n",
    "\n",
    "\tret, frame = cap.read()\n",
    "\t#frame=cv.resize(frame,(800,600))\n",
    "\tif(np.shape(frame) == ()) : break\n",
    "\tframe=cv.resize(frame,(frameSize[0],frameSize[1]))\n",
    "\t\n",
    "\tbgs = bgsub.apply(frame)\n",
    "\t\n",
    "\tbgs = cv.erode(bgs,kernel,iterations = 1)\n",
    "\tbgs = cv.medianBlur(bgs,3)\n",
    "\tbgs = cv.dilate(bgs,kernel,iterations=2)\n",
    "\t\n",
    "\tbgs = (bgs > 200).astype(np.uint8)*255\n",
    "\tcolorMask = cv.bitwise_and(frame,frame,mask = bgs)\n",
    "\n",
    "\tif(crop):\n",
    "\t\tfromCenter= False\n",
    "\t\timg = colorMask\n",
    "\t\tr = cv.selectROI(img, fromCenter)\n",
    "\t\timCrop = img[int(r[1]):int(r[1]+r[3]), int(r[0]):int(r[0]+r[2])]\n",
    "\t\tcrop = False\n",
    "\t\tcamshift = True\n",
    "\t\timCropMask = cv.cvtColor(imCrop, cv.COLOR_BGR2GRAY)\n",
    "\t\tret,imCropMask = cv.threshold(imCropMask,30,255,cv.THRESH_BINARY)\n",
    "\t\this = smooth(1,rgbh([imCrop],imCropMask))\n",
    "\t\troiBox = (int(r[0]), int(r[1]),int(r[2]), int(r[3]))\n",
    "\t\tcv.destroyWindow(\"ROI selector\")\n",
    "\n",
    "\t\t\n",
    "\tif(camshift):\n",
    "\t\tcv.putText(frame,'Center roiBox',(0,10), font, 0.5,(0,255,0),2,cv.LINE_AA)\n",
    "\t\tcv.putText(frame,'Estimated position',(0,30), font,0.5,(255,255,0),2,cv.LINE_AA)\n",
    "\t\tcv.putText(frame,'Prediction',(0,50), font, 0.5,(0,0,255),2,cv.LINE_AA)\n",
    "\n",
    "\t\trgbr = np.floor_divide( colorMask , REDU)\n",
    "\t\tr,g,b = rgbr.transpose(2,0,1)\n",
    "\t\tl = his[r,g,b]\n",
    "\t\tmaxl = l.max()\n",
    "\t\taa=np.clip((1*l/maxl*255),0,255).astype(np.uint8)\n",
    "\t\t\n",
    "\t\t(rb, roiBox) = cv.CamShift(l, roiBox, termination)\n",
    "\t\tcv.ellipse(frame, rb, (0, 255, 0), 2)\n",
    "\n",
    "\t\txo=int(roiBox[0]+roiBox[2]/2)\n",
    "\t\tyo=int(roiBox[1]+roiBox[3]/2)\n",
    "\t\terror=(roiBox[3])\n",
    "\t\t\n",
    "\t\tif(yo<error or bgs.sum()<50):\n",
    "\t\t\tmm = False\n",
    "\t\telse:\n",
    "\t\t\tmm = True\n",
    "\t\t\t\n",
    "\t\tif(mm):\n",
    "\t\t\tlistCenterX.append(xo)\n",
    "\t\t\tlistCenterY.append(yo)\n",
    "\t\t\tlistCenterTransformedY.append(TransformYCoordinate(yo, frameSize))\n",
    "\t\t\n",
    "\t\tfor n in range(len(listCenterX)): \n",
    "\t\t\tcv.circle(frame,(int(listCenterX[n]),int(listCenterY[n])),3,(0, 255, 0),-1)\n",
    "\t\t\t\n",
    "\n",
    "\t\tif (len(listCenterY)>4):\n",
    "\t\t\tif ((listCenterY[-5] < listCenterY[-4]) and(listCenterY[-4] <listCenterY[-3]) and (listCenterY[-3] > listCenterY[-2]) and (listCenterY[-2] > listCenterY[-1])):\n",
    "\t\t\t\tprint(\"REBOTE\")\n",
    "\t\t\t\tbreak\n",
    "\t\n",
    "\tcv.imshow('ColorMask',colorMask)\n",
    "\tcv.imshow('mask', bgs)\n",
    "\tcv.imshow('Frame', frame)\n",
    "\n"
   ]
  },
  {
   "cell_type": "code",
   "execution_count": 85,
   "metadata": {},
   "outputs": [],
   "source": [
    "# Create array of points \n",
    "xy= [[0 for x in range(2)] for y in range(len(listCenterX))] \n",
    "for i in range(len(listCenterX)):\n",
    "    xy[i][0] = listCenterX[i]\n",
    "    xy[i][1] = listCenterY[i]\n",
    "\n"
   ]
  },
  {
   "cell_type": "code",
   "execution_count": 86,
   "metadata": {},
   "outputs": [],
   "source": [
    "# Create array of points with transformed y coordinates\n",
    "xyT= [[0 for x in range(2)] for y in range(len(listCenterX))] \n",
    "for i in range(len(listCenterX)):\n",
    "    xyT[i][0] = listCenterX[i]\n",
    "    xyT[i][1] = listCenterTransformedY[i]"
   ]
  },
  {
   "cell_type": "code",
   "execution_count": 87,
   "metadata": {},
   "outputs": [],
   "source": [
    "# open the file in the write mode\n",
    "with open(SaveTestdataPath + videoName + '.csv', 'w') as f:\n",
    "\n",
    "    # create the csv writer\n",
    "    writer = csv.writer(f, delimiter= ';')\n",
    "    for i in range(len(listCenterX)):\n",
    "        # write a row to the csv file     \n",
    "        writer.writerow( xy[i] )\n",
    "\n"
   ]
  },
  {
   "cell_type": "code",
   "execution_count": 88,
   "metadata": {},
   "outputs": [],
   "source": [
    "# open the file in the write mode\n",
    "with open(SaveTestdataPath + videoName + 'Transformed.csv', 'w') as f:\n",
    "\n",
    "    # create the csv writer\n",
    "    writer = csv.writer(f, delimiter= ';')\n",
    "    for i in range(len(listCenterX)):\n",
    "        # write a row to the csv file     \n",
    "        writer.writerow( xyT[i] )"
   ]
  },
  {
   "cell_type": "code",
   "execution_count": null,
   "metadata": {},
   "outputs": [],
   "source": []
  }
 ],
 "metadata": {
  "kernelspec": {
   "display_name": "base",
   "language": "python",
   "name": "python3"
  },
  "language_info": {
   "codemirror_mode": {
    "name": "ipython",
    "version": 3
   },
   "file_extension": ".py",
   "mimetype": "text/x-python",
   "name": "python",
   "nbconvert_exporter": "python",
   "pygments_lexer": "ipython3",
   "version": "3.9.7"
  },
  "orig_nbformat": 4,
  "vscode": {
   "interpreter": {
    "hash": "39d812295df044f46d5a2818566e24e73347589115ce7890d425d199bb937021"
   }
  }
 },
 "nbformat": 4,
 "nbformat_minor": 2
}
