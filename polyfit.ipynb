{
 "cells": [
  {
   "cell_type": "code",
   "execution_count": 7,
   "metadata": {},
   "outputs": [],
   "source": [
    "import csv\n",
    "import numpy as np\n",
    "import matplotlib.pyplot as plt\n",
    "import imageio.v2 as imageio\n",
    "import os\n",
    "file = open('data/ballPosition.csv')"
   ]
  },
  {
   "cell_type": "code",
   "execution_count": 8,
   "metadata": {},
   "outputs": [],
   "source": [
    "def DrawFunction(a, b, c, xStart, xEnd, current_size):\n",
    "    x = []\n",
    "    y = []\n",
    "    \n",
    "    for i in range(xStart, xEnd):\n",
    "        x.append(i)\n",
    "        y.append(a*i**2 + b*i + c)\n",
    "\n",
    "    plt.plot(x, y, label = current_size)"
   ]
  },
  {
   "cell_type": "code",
   "execution_count": 9,
   "metadata": {},
   "outputs": [],
   "source": [
    "x_ball = []\n",
    "y_ball = []\n",
    "csvreader = csv.reader(file)\n",
    "i = 0\n",
    "for row in csvreader:\n",
    "    i += 1\n",
    "    if  i % 2 == 0:\n",
    "        continue\n",
    "    if(row != ['x;y']):\n",
    "        rc = row[0]\n",
    "        row = rc.split(\";\")\n",
    "        x_ball.append(int(row[0]))\n",
    "        y_ball.append(int(row[1]))"
   ]
  },
  {
   "cell_type": "code",
   "execution_count": 10,
   "metadata": {},
   "outputs": [],
   "source": [
    "# matplotlib settings\n",
    "plt.rcParams['figure.figsize'] = [12, 8]\n",
    "plt.rcParams['figure.dpi'] = 200\n",
    "\n",
    "size = len(x_ball)\n",
    "intervall = 1\n",
    "current_size = 5\n",
    "xStart = 550\n",
    "xEnd = 1350\n",
    "filenames = []\n",
    "\n",
    "for current_size in range(current_size, size, intervall):\n",
    "    \n",
    "    # determine the coefficients for the parabola\n",
    "    a, b, c = np.polyfit(x_ball[:current_size], y_ball[:current_size], 2)\n",
    "    DrawFunction(a,b,c, xStart, xEnd, current_size)\n",
    "\n",
    "    # highlight current point\n",
    "    plt.plot(x_ball[current_size], y_ball[current_size], 'ro')\n",
    "    plt.plot(x_ball,y_ball, 'g.', label = \"measured ball positions\")\n",
    "\n",
    "    # create file name and append it to a list\n",
    "    filename = f'data/polynomialRegression_{current_size}.png'\n",
    "    filenames.append(filename)\n",
    "\n",
    "    # repeat last frame\n",
    "    if (current_size + intervall >= size):\n",
    "        for i in range(15):\n",
    "            filenames.append(filename)\n",
    "    \n",
    "    # save frame\n",
    "    plt.savefig(filename)\n",
    "    plt.close()"
   ]
  },
  {
   "cell_type": "code",
   "execution_count": 11,
   "metadata": {},
   "outputs": [],
   "source": [
    "# build gif\n",
    "with imageio.get_writer('data/polynomialRegression.gif', mode='I') as writer:\n",
    "    for filename in filenames:\n",
    "        image = imageio.imread(filename)\n",
    "        writer.append_data(image)"
   ]
  },
  {
   "cell_type": "code",
   "execution_count": 12,
   "metadata": {},
   "outputs": [],
   "source": [
    "# Remove files\n",
    "for filename in set(filenames):\n",
    "    os.remove(filename)"
   ]
  }
 ],
 "metadata": {
  "kernelspec": {
   "display_name": "Python 3",
   "language": "python",
   "name": "python3"
  },
  "language_info": {
   "codemirror_mode": {
    "name": "ipython",
    "version": 3
   },
   "file_extension": ".py",
   "mimetype": "text/x-python",
   "name": "python",
   "nbconvert_exporter": "python",
   "pygments_lexer": "ipython3",
   "version": "3.11.1"
  },
  "orig_nbformat": 4,
  "vscode": {
   "interpreter": {
    "hash": "5238573367df39f7286bb46f9ff5f08f63a01a80960060ce41e3c79b190280fa"
   }
  }
 },
 "nbformat": 4,
 "nbformat_minor": 2
}
