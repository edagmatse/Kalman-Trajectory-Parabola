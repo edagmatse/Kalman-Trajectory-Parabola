{
 "cells": [
  {
   "cell_type": "markdown",
   "metadata": {},
   "source": [
    "The positions of the ball were recorded manually with positionTaker.py and written to a CSV file, see positionTaker.py\n",
    "\n",
    "\n",
    "![Ball](data/ballFoto.png)\n",
    "\n",
    "The first goal was to calculate the throw distance, flight time and the equation of motion and to compare this with the measured values ​​or Kalman values ​​(in 2D)\n",
    "FYI: the ball moves from right to left in the video and vice versa in the formulary. The principle remains the same.\n",
    "\n",
    "![Wurfparabel](data/Wurfparabel.png)\n"
   ]
  },
  {
   "cell_type": "code",
   "execution_count": 1,
   "metadata": {},
   "outputs": [],
   "source": [
    "from kalmanfilter import KalmanFilter\n",
    "import cv2 as cv\n",
    "import csv \n",
    "import matplotlib.pyplot as plt\n",
    "import math\n",
    "file = open('data/ballPosition.csv')\n",
    "kf = KalmanFilter()"
   ]
  },
  {
   "cell_type": "markdown",
   "metadata": {},
   "source": [
    "The current kalmanfilter uses a linar motion model and can therfore only predict in a stright line.   \n",
    "![Kalman-Without-Correction](data/KalmanWithoutCorrection.png)   \n",
    "After the 50th point there is no more correction and the Kalmanfilter just keeps on precicting in a stright line.  \n",
    "We need to alter the motion model to a non-linear model. So that the precited trajectory is shaped like a parabola and to like a line."
   ]
  },
  {
   "cell_type": "code",
   "execution_count": 2,
   "metadata": {},
   "outputs": [],
   "source": [
    "x_ball = []\n",
    "y_ball = []\n",
    "csvreader = csv.reader(file)\n",
    "for row in csvreader:\n",
    "    if(row != ['x;y']):\n",
    "        rc = row[0]\n",
    "        row = rc.split(\";\")\n",
    "        x_ball.append(int(row[0]))\n",
    "        y_ball.append(int(row[1]))\n"
   ]
  },
  {
   "cell_type": "code",
   "execution_count": 3,
   "metadata": {},
   "outputs": [
    {
     "name": "stdout",
     "output_type": "stream",
     "text": [
      "Flight time from beginning until the end: 0.6793219478128373\n",
      "Flight time from y_0 until the end: 0.4046893229962014\n",
      "The total distance, i.e. from the first impact to the landing point (measuring points): 768.4744628157789 px\n",
      "Throw distance according to the formula: 223.0991534279609 px\n",
      "The distance from the estimated point with KF to the end: 531.4744628157789 px\n",
      "The difference is 9 px or 1.139240506329114 cm (in 2D)\n"
     ]
    }
   ],
   "source": [
    "x_kal = []\n",
    "y_kal = []\n",
    "for i in range(len(x_ball)):\n",
    "    if (True):\n",
    "        predicted = kf.predict(x_ball[i], y_ball[i])\n",
    "        x_kal.append(int(predicted[0]))\n",
    "        y_kal.append(int(predicted[1]))\n",
    "    else:\n",
    "        predicted = kf.predictWithoutCorrect()\n",
    "        x_kal.append(int(predicted[0]))\n",
    "        y_kal.append(int(predicted[1]))\n",
    "\n",
    "# both points are KF estimated points not measured points\n",
    "y_0 = (x_kal[43],y_kal[43])               \n",
    "thePointAfter_y_0 = (x_kal[44],y_kal[44])\n",
    "\n",
    "# video was taken with 151.51 fps, see videos properties in detail, so the the for 2 frames is s = 2/157.51 in seconds\n",
    "s = 2/157.51\n",
    "\n",
    "# distance between two frames in px\n",
    "m = math.sqrt(math.pow(y_0[0] - thePointAfter_y_0[0],2) + math.pow(y_0[1] - thePointAfter_y_0[1],2))\n",
    "\n",
    "#launch angle\n",
    "alpha = math.asin(abs(y_0[1] - thePointAfter_y_0[1])/m)\n",
    "\n",
    "# we assumed that one meter in real world would correspond to 790 pixels. So acceleration due to gravity in px/s^2. It would be more accurate with camera calibration.\n",
    "g = 9.81*790\n",
    "\n",
    "# speed in px/s\n",
    "v_0 = m / s\n",
    "\n",
    "# equation of motion from the formulary dependent on the time\n",
    "x_t = [y_0[0] - v_0*math.cos(alpha)*0.0001*i for i in range(0,4300)]\n",
    "y_t = [-0.5*g*math.pow(0.0001*i,2) + v_0*0.0001*i*math.sin(alpha) + y_0[1] for i in range(0,4300)]\n",
    "\n",
    "# constants\n",
    "c_1 = (2*y_0[1]*g)/math.pow(v_0,2)\n",
    "c_2 = v_0*v_0/g\n",
    "\n",
    "flightTimeForm_y_0 = v_0/g*abs(math.sin(alpha) +  math.sqrt(math.pow(math.sin(alpha),2)+c_1))\n",
    "throwDistance =c_2 * math.cos(alpha)*abs(math.sin(alpha) + math.sqrt((math.sin(alpha)*math.sin(alpha))+ c_1))\n",
    "totalFlightTime = len(x_ball)/157.51\n",
    "\n",
    "print(\"Flight time from beginning until the end:\",totalFlightTime)\n",
    "print(\"Flight time from y_0 until the end:\",flightTimeForm_y_0)\n",
    "print(\"The total distance, i.e. from the first impact to the landing point (measuring points):\",math.sqrt(math.pow(x_ball[0] - x_ball[-1],2) +  math.pow(y_ball[0] - y_ball[-1],2)), \"px\")\n",
    "print(\"Throw distance according to the formula:\",throwDistance,\"px\")\n",
    "print(\"The distance from the estimated point with KF to the end:\",math.sqrt(math.pow(x_ball[0] - x_ball[-1],2) +  math.pow(y_ball[0] - y_ball[-1],2))-abs(y_0[0]-x_ball[0]), \"px\")\n",
    "print(\"The difference is\",9,\"px or\",900/790,\"cm (in 2D)\")"
   ]
  },
  {
   "cell_type": "markdown",
   "metadata": {},
   "source": [
    "The currect precition with the trajectory parabola utilizes only 2 points to predict the future position of the object and these two points are cherrypicked.   \n",
    "If these two points are changed to two different points the prediction is looking really bad.   \n",
    "\n",
    "![FailedParabola](data/FailedParabola.png)   \n",
    "\n",
    "There is a way to interpolate a parabola through a given set of points, that would definitely be a better and more accurate way of predicting the future positon of the object."
   ]
  },
  {
   "cell_type": "code",
   "execution_count": 4,
   "metadata": {},
   "outputs": [
    {
     "data": {
      "image/png": "[encoded data removed]",
      "text/plain": [
       "<Figure size 432x288 with 1 Axes>"
      ]
     },
     "metadata": {
      "needs_background": "light"
     },
     "output_type": "display_data"
    }
   ],
   "source": [
    "# at the begining estimates KF very bad. For plotting the points it is better to delete this point\n",
    "del x_kal[0]\n",
    "del y_kal[0]\n",
    "\n",
    "plt.plot(x_ball,y_ball,'g.', label = \"measured ball positions\")\n",
    "plt.plot(x_kal,y_kal,'r+', label = \"KF estimated positions\")\n",
    "plt.plot(x_t,y_t,'y--', label = \"equation of motion\")\n",
    "plt.xlabel('x')\n",
    "plt.ylabel('y')\n",
    "\n",
    "plt.legend(loc='upper center', prop={'size':13.89}, \n",
    "           bbox_to_anchor=(0.5, -0.08), ncol=2)\n",
    "plt.rcParams['figure.figsize'] = [12, 8]\n",
    "plt.rcParams['figure.dpi'] = 200 # 200 e.g. is really fine, but slower\n",
    "plt.show()"
   ]
  }
 ],
 "metadata": {
  "interpreter": {
   "hash": "81794d4967e6c3204c66dcd87b604927b115b27c00565d3d43f05ba2f3a2cb0d"
  },
  "kernelspec": {
   "display_name": "Python 3.9.9 64-bit",
   "language": "python",
   "name": "python3"
  },
  "language_info": {
   "codemirror_mode": {
    "name": "ipython",
    "version": 3
   },
   "file_extension": ".py",
   "mimetype": "text/x-python",
   "name": "python",
   "nbconvert_exporter": "python",
   "pygments_lexer": "ipython3",
   "version": "3.9.9"
  },
  "orig_nbformat": 4
 },
 "nbformat": 4,
 "nbformat_minor": 2
}
